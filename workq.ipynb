{
 "cells": [
  {
   "cell_type": "code",
   "execution_count": 1,
   "metadata": {},
   "outputs": [
    {
     "data": {
      "application/vnd.jupyter.widget-view+json": {
       "model_id": "191ba1b8504645298d4272dd13e6bbcc",
       "version_major": 2,
       "version_minor": 0
      },
      "text/plain": [
       "Sheet(cells=(Cell(column_end=0, column_start=0, row_end=0, row_start=0, type='text', value=' '), Cell(column_e…"
      ]
     },
     "metadata": {},
     "output_type": "display_data"
    },
    {
     "data": {
      "application/vnd.jupyter.widget-view+json": {
       "model_id": "5f1bad14d2a44591a31a30220e1786d3",
       "version_major": 2,
       "version_minor": 0
      },
      "text/plain": [
       "Sheet(cells=(Cell(column_end=0, column_start=0, row_end=0, row_start=0, style={'backgroundColor': 'grey'}, typ…"
      ]
     },
     "metadata": {},
     "output_type": "display_data"
    }
   ],
   "source": [
    "from sample_entry import samples_sheet, metadata_sheet, work_list, check_list, cell\n",
    "from IPython.display import display\n",
    "%run startup.py\n",
    "display(samples_sheet)\n",
    "display(metadata_sheet)"
   ]
  },
  {
   "cell_type": "code",
   "execution_count": 8,
   "metadata": {},
   "outputs": [],
   "source": [
    "from bluesky.plans import count\n",
    "from bluesky.plan_stubs import mv\n",
    "import time\n",
    "def plan(work_list):\n",
    "    for r, w in enumerate(work_list):\n",
    "        time.sleep(5)\n",
    "        if all(check_list[r]):\n",
    "            print('exec row', f'{1+r}')\n",
    "            for c in range(2):\n",
    "                tmp = cell(r,c, metadata_sheet[r,c].value, read_only=True)\n",
    "            yield from mv(det.exp, w.scantime)\n",
    "            yield from count([det])\n",
    "        else:\n",
    "            print('skip row', f'{1+r}')"
   ]
  },
  {
   "cell_type": "code",
   "execution_count": 9,
   "metadata": {},
   "outputs": [
    {
     "name": "stdout",
     "output_type": "stream",
     "text": [
      "exec row 1\n",
      "exec row 2\n",
      "skip row 3\n",
      "skip row 4\n",
      "skip row 5\n"
     ]
    },
    {
     "data": {
      "text/plain": [
       "('f2e6a2cc-d37a-4600-9b10-c2c05f41a530',\n",
       " '40c60453-11dd-4b14-840e-2adf6ee948de')"
      ]
     },
     "execution_count": 9,
     "metadata": {},
     "output_type": "execute_result"
    }
   ],
   "source": [
    "RE(plan(work_list))"
   ]
  }
 ],
 "metadata": {
  "kernelspec": {
   "display_name": "Python 3",
   "language": "python",
   "name": "python3"
  },
  "language_info": {
   "codemirror_mode": {
    "name": "ipython",
    "version": 3
   },
   "file_extension": ".py",
   "mimetype": "text/x-python",
   "name": "python",
   "nbconvert_exporter": "python",
   "pygments_lexer": "ipython3",
   "version": "3.7.4"
  }
 },
 "nbformat": 4,
 "nbformat_minor": 4
}
