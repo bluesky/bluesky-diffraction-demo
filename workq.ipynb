{
 "cells": [
  {
   "cell_type": "code",
   "execution_count": 1,
   "metadata": {},
   "outputs": [],
   "source": [
    "from sample_entry import samples_sheet, metadata_sheet, work_list, check_list\n",
    "from IPython.display import display"
   ]
  },
  {
   "cell_type": "code",
   "execution_count": 2,
   "metadata": {},
   "outputs": [
    {
     "data": {
      "application/vnd.jupyter.widget-view+json": {
       "model_id": "0bee3ff733974dfd84c2fb499c326d3c",
       "version_major": 2,
       "version_minor": 0
      },
      "text/plain": [
       "Sheet(cells=(Cell(column_end=0, column_start=0, row_end=0, row_start=0, type='text', value=' '), Cell(column_e…"
      ]
     },
     "metadata": {},
     "output_type": "display_data"
    },
    {
     "data": {
      "application/vnd.jupyter.widget-view+json": {
       "model_id": "6a6487426fcb467195643f3e90c8b1a9",
       "version_major": 2,
       "version_minor": 0
      },
      "text/plain": [
       "Sheet(cells=(Cell(column_end=0, column_start=0, row_end=0, row_start=0, style={'backgroundColor': 'grey'}, typ…"
      ]
     },
     "metadata": {},
     "output_type": "display_data"
    }
   ],
   "source": [
    "display(samples_sheet)\n",
    "display(metadata_sheet)"
   ]
  },
  {
   "cell_type": "code",
   "execution_count": 3,
   "metadata": {},
   "outputs": [],
   "source": [
    "%run startup.py"
   ]
  },
  {
   "cell_type": "code",
   "execution_count": 5,
   "metadata": {},
   "outputs": [
    {
     "data": {
      "text/plain": [
       "[[True, False], [True, True], [True, True], [False, False], [True, False]]"
      ]
     },
     "execution_count": 5,
     "metadata": {},
     "output_type": "execute_result"
    }
   ],
   "source": [
    "check_list"
   ]
  },
  {
   "cell_type": "code",
   "execution_count": 6,
   "metadata": {},
   "outputs": [
    {
     "data": {
      "text/plain": [
       "[<sample_entry.WorkQueueItem at 0x112ce0f50>,\n",
       " <sample_entry.WorkQueueItem at 0x112ce0e50>,\n",
       " <sample_entry.WorkQueueItem at 0x112ce0050>,\n",
       " <sample_entry.WorkQueueItem at 0x112ce0350>,\n",
       " <sample_entry.WorkQueueItem at 0x112ce0dd0>]"
      ]
     },
     "execution_count": 6,
     "metadata": {},
     "output_type": "execute_result"
    }
   ],
   "source": [
    "work_list"
   ]
  },
  {
   "cell_type": "code",
   "execution_count": 7,
   "metadata": {},
   "outputs": [
    {
     "name": "stdout",
     "output_type": "stream",
     "text": [
      "0.0\n",
      "3.0\n",
      "2.0\n",
      "-3.0\n",
      "0.0\n"
     ]
    }
   ],
   "source": [
    "for item in list(work_list):\n",
    "    print(item.scantime)"
   ]
  },
  {
   "cell_type": "code",
   "execution_count": 8,
   "metadata": {},
   "outputs": [],
   "source": [
    "import time"
   ]
  },
  {
   "cell_type": "code",
   "execution_count": 9,
   "metadata": {},
   "outputs": [],
   "source": [
    "from bluesky.plans import count\n",
    "from bluesky.plan_stubs import mv\n",
    "\n",
    "def plan(work_list):\n",
    "    for i in range(20):\n",
    "        time.sleep(5)\n",
    "        for i, w in enumerate(work_list):\n",
    "            if all(check_list[i]):\n",
    "                yield from mv(det.exp, w.scantime)\n",
    "                yield from count([det])"
   ]
  },
  {
   "cell_type": "code",
   "execution_count": 10,
   "metadata": {},
   "outputs": [
    {
     "data": {
      "text/plain": [
       "('a4e9f844-a313-4938-8d93-14a48d6cfd90',\n",
       " '4550991c-c5b7-49e1-a747-7c097ef04bed',\n",
       " 'add0dfd6-8565-49c3-9c35-80616d6d9bc6',\n",
       " '45b73140-46f6-48cc-baa4-a3d792afdb66',\n",
       " '2ac06aca-7c71-44f9-8c9f-2548117b5f7a',\n",
       " '574f98de-d71d-4a78-ba9f-10937f7087b2',\n",
       " 'fbe78101-c85d-4dfb-8e02-94467b1bf6dc',\n",
       " 'c9c2a78f-0b95-40d6-a1a6-af325c2e1868',\n",
       " 'a508495b-53de-4a81-89f3-c9fee023ccfb',\n",
       " '209ee3a5-dd2e-4e9a-9aa8-561a072c2213',\n",
       " 'c55d968c-c1b4-43f4-93a0-8bdb075cf74d',\n",
       " '9e726ae6-ed1c-49c6-80fc-8d859b7e2474',\n",
       " '295948da-1368-4892-84cb-ee577497262e',\n",
       " '620bc3b8-9a17-47e7-87fc-7ff9330bca8d',\n",
       " 'e22b14b4-7783-40ac-a01c-dfb6e53cc8cb',\n",
       " '8272e9b4-5b91-42b2-99ab-f0a47996d780',\n",
       " '149713e2-938c-4aff-8dfe-b30dabf02790',\n",
       " 'b04ef1b1-2b1d-405c-92e8-016b5eebc804',\n",
       " 'a6afa788-8488-46b9-8e8a-0170c13d522f',\n",
       " '4fbe23b4-ce13-49d5-89fa-ead2f48f9ab1',\n",
       " '86c962c2-0cbb-496c-9a6c-d3591cdcc55e',\n",
       " '9548ddad-5397-4cc9-ad9c-e24a76472ad3',\n",
       " 'dd3ad4ae-ca89-4469-ab1f-3b963a76701b',\n",
       " 'c5f55247-e135-4aff-8e2c-4e26c55d8eed',\n",
       " '38aa523d-f38d-46c3-bdf6-527fac095147',\n",
       " '48d43372-bee4-4d82-86c7-3557ce0792b6',\n",
       " 'c1cb437d-1912-401a-af62-dc1cd81c9630',\n",
       " 'a0b1dcc8-68a7-4497-883d-037537a43734',\n",
       " '7ecec14b-cc98-4f6d-8b0b-e9d36897fbf2',\n",
       " '71158fa7-976b-49a6-8fc9-28bbdae12ece',\n",
       " '25a16ddd-3779-4801-9642-7a3a603736d5',\n",
       " '193d3917-aa1d-4f98-a63f-d6b5cc620bbf',\n",
       " 'f6b8706e-84a2-4f97-94b6-a13c359ad037',\n",
       " '81c1ffa0-db49-498c-965a-660e0672d666',\n",
       " 'cb979e69-baca-4c3a-9574-033ce0355f3d',\n",
       " '1ff88d8c-1f47-4910-b666-3c77dc9c6879',\n",
       " '8c0c3055-1ffe-4962-b84f-56931ffe8760',\n",
       " '8bf1d9df-653b-4261-bf40-46768bfe27ad',\n",
       " '489ef5b5-ad21-409a-9b79-72faee052544',\n",
       " 'ef9553a3-8e31-4f24-8868-d063ff7e9122')"
      ]
     },
     "execution_count": 10,
     "metadata": {},
     "output_type": "execute_result"
    }
   ],
   "source": [
    "RE(plan(work_list))"
   ]
  },
  {
   "cell_type": "code",
   "execution_count": 11,
   "metadata": {},
   "outputs": [],
   "source": [
    "o = _"
   ]
  },
  {
   "cell_type": "code",
   "execution_count": 12,
   "metadata": {},
   "outputs": [
    {
     "data": {
      "text/plain": [
       "40"
      ]
     },
     "execution_count": 12,
     "metadata": {},
     "output_type": "execute_result"
    }
   ],
   "source": [
    "len(o)"
   ]
  },
  {
   "cell_type": "code",
   "execution_count": 13,
   "metadata": {},
   "outputs": [
    {
     "data": {
      "text/plain": [
       "[10, 10, 5]"
      ]
     },
     "execution_count": 13,
     "metadata": {},
     "output_type": "execute_result"
    }
   ],
   "source": [
    "metadata_sheet.column_width"
   ]
  },
  {
   "cell_type": "code",
   "execution_count": null,
   "metadata": {},
   "outputs": [],
   "source": []
  },
  {
   "cell_type": "code",
   "execution_count": null,
   "metadata": {},
   "outputs": [],
   "source": []
  }
 ],
 "metadata": {
  "kernelspec": {
   "display_name": "Python 3",
   "language": "python",
   "name": "python3"
  },
  "language_info": {
   "codemirror_mode": {
    "name": "ipython",
    "version": 3
   },
   "file_extension": ".py",
   "mimetype": "text/x-python",
   "name": "python",
   "nbconvert_exporter": "python",
   "pygments_lexer": "ipython3",
   "version": "3.7.4"
  }
 },
 "nbformat": 4,
 "nbformat_minor": 4
}
