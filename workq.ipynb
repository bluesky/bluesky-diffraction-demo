{
 "cells": [
  {
   "cell_type": "code",
   "execution_count": 1,
   "metadata": {},
   "outputs": [],
   "source": [
    "import amostra.mongo_client\n",
    "from ipysheet import cell\n",
    "from ipywidgets import link\n",
    "from traitlets import HasTraits, Int, Unicode, Float\n",
    "import uuid\n",
    "import ipysheet\n",
    "\n",
    "client = amostra.mongo_client.Client(f'mongodb://localhost:27017/test_amostra_ipysheet-{uuid.uuid4()!s}')\n",
    "\n",
    "samples_sheet = ipysheet.sheet(rows5=5, columns=3, column_headers=['Sample Name', 'Composition', 'UUID'])\n",
    "for row in range(samples_sheet.rows):\n",
    "    sample = client.samples.new(name=' ', composition=' ')\n",
    "    link((cell(row, 0, value=' '), 'value'), (sample, 'name'))\n",
    "    link((cell(row, 1, value=' '), 'value'), (sample, 'composition'))\n",
    "    cell(row, 2, value=' ').value = sample.uuid\n",
    "\n",
    "    \n",
    "class WorkQueueItem(HasTraits):\n",
    "    name = Unicode()\n",
    "    scantime = Float()\n",
    "    uuid = Unicode()\n",
    "\n",
    "\n",
    "def search(change):\n",
    "    '''\n",
    "    change\n",
    "    \n",
    "    {'name': 'value',\n",
    "     'old': ' ',\n",
    "     'new': 'a',\n",
    "     'owner': Cell(column_end=0, column_start=0, row_end=0, row_start=0, type='text', value='a'),\n",
    "     'type': 'change'}\n",
    "    '''\n",
    "    t = change['new']\n",
    "    c = change['owner']\n",
    "    update_cell = cell(c.row_start, c.column_end+2)\n",
    "    for s in client.samples.find({}):\n",
    "        if t == s.name:\n",
    "            update_cell.value = s.uuid\n",
    "            break\n",
    "    else:\n",
    "        update_cell.value = ''\n",
    "\n",
    "        \n",
    "\n",
    "metadata_sheet = ipysheet.sheet(rows=5, columns=3, column_headers = ['Sample Name', 'ScanTime', 'UUID'])\n",
    "work_list = list()\n",
    "for row in range(metadata_sheet.rows):\n",
    "    work = WorkQueueItem(name=' ', scantime=0)\n",
    "    work_list.append(work)\n",
    "    \n",
    "    sample_cell = cell(row, 0, value=' ')\n",
    "    link((sample_cell, 'value'), (work, 'name'))\n",
    "    sample_cell.observe(search, names = 'value', type='change')\n",
    "    \n",
    "    link((cell(row, 1, value=0), 'value'), (work, 'scantime'))\n",
    "    \n",
    "    uuid_cell = cell(row, 2, value=' ')\n",
    "    link((uuid_cell, 'value'), (work, 'uuid'))\n"
   ]
  },
  {
   "cell_type": "code",
   "execution_count": 2,
   "metadata": {},
   "outputs": [
    {
     "data": {
      "application/vnd.jupyter.widget-view+json": {
       "model_id": "ddfb3c11b73f4f0199e6d4f3d5b29253",
       "version_major": 2,
       "version_minor": 0
      },
      "text/plain": [
       "Sheet(cells=(Cell(column_end=0, column_start=0, row_end=0, row_start=0, type='text', value=' '), Cell(column_e…"
      ]
     },
     "metadata": {},
     "output_type": "display_data"
    }
   ],
   "source": [
    "samples_sheet"
   ]
  },
  {
   "cell_type": "code",
   "execution_count": null,
   "metadata": {},
   "outputs": [],
   "source": []
  },
  {
   "cell_type": "code",
   "execution_count": 95,
   "metadata": {},
   "outputs": [
    {
     "data": {
      "application/vnd.jupyter.widget-view+json": {
       "model_id": "76f8f43e762f4e6692289fcaeeb3d6e9",
       "version_major": 2,
       "version_minor": 0
      },
      "text/plain": [
       "Sheet(cells=(Cell(column_end=0, column_start=0, row_end=0, row_start=0, type='text', value=' '), Cell(column_e…"
      ]
     },
     "metadata": {},
     "output_type": "display_data"
    }
   ],
   "source": [
    "metadata_sheet"
   ]
  },
  {
   "cell_type": "code",
   "execution_count": null,
   "metadata": {},
   "outputs": [],
   "source": []
  }
 ],
 "metadata": {
  "kernelspec": {
   "display_name": "Python 3",
   "language": "python",
   "name": "python3"
  },
  "language_info": {
   "codemirror_mode": {
    "name": "ipython",
    "version": 3
   },
   "file_extension": ".py",
   "mimetype": "text/x-python",
   "name": "python",
   "nbconvert_exporter": "python",
   "pygments_lexer": "ipython3",
   "version": "3.7.4"
  }
 },
 "nbformat": 4,
 "nbformat_minor": 4
}
